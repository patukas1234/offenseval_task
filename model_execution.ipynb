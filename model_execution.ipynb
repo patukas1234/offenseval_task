{
 "cells": [
  {
   "cell_type": "code",
   "execution_count": 143,
   "metadata": {
    "ExecuteTime": {
     "end_time": "2019-12-10T14:23:45.897531Z",
     "start_time": "2019-12-10T14:23:40.172305Z"
    },
    "scrolled": true
   },
   "outputs": [],
   "source": [
    "import nltk\n",
    "import random\n",
    "import re\n",
    "\n",
    "\n",
    "import numpy as np\n",
    "import pandas as pd\n",
    "import matplotlib.pyplot as plt\n",
    "%matplotlib inline\n",
    "\n",
    "from collections import defaultdict, Counter\n",
    "from sklearn.metrics import f1_score\n",
    "from sklearn.model_selection import train_test_split\n",
    "from utils import *\n",
    "\n"
   ]
  },
  {
   "cell_type": "code",
   "execution_count": 112,
   "metadata": {
    "ExecuteTime": {
     "end_time": "2019-12-10T15:23:28.645824Z",
     "start_time": "2019-12-10T15:23:28.643518Z"
    }
   },
   "outputs": [
    {
     "output_type": "execute_result",
     "data": {
      "text/plain": [
       "'task_a'"
      ]
     },
     "metadata": {},
     "execution_count": 112
    }
   ],
   "source": [
    "# Initiate model\n",
    "model_SVM = model(\"SVM\", \"task_a\")\n"
   ]
  },
  {
   "cell_type": "code",
   "execution_count": 151,
   "metadata": {
    "ExecuteTime": {
     "end_time": "2019-12-10T15:23:29.523165Z",
     "start_time": "2019-12-10T15:23:29.482275Z"
    }
   },
   "outputs": [],
   "source": [
    "# load  data\n",
    "data_train = pd.read_csv('./Data/olid-training-v1.0.tsv', sep='\\t', encoding='utf-8')\n",
    "labels_train = data[\"subtask_a\"].values #TO DO FIX the sub/task thing\n",
    "\n",
    "\n",
    "data_test = pd.read_csv('./Data/testset-level' + model_SVM.subtask[-1] +'.tsv', sep='\\t', encoding='utf-8')\n",
    "labels_test = pd.read_csv('./Data/labels-level' + model_SVM.subtask[-1] + '.csv', sep=',', encoding='utf-8', header=None)\n",
    "labels_test.rename(columns={1: 'label'}, inplace=True)\n"
   ]
  },
  {
   "cell_type": "code",
   "execution_count": 155,
   "metadata": {},
   "outputs": [],
   "source": []
  },
  {
   "cell_type": "code",
   "execution_count": 157,
   "metadata": {
    "ExecuteTime": {
     "end_time": "2019-12-10T15:23:33.901490Z",
     "start_time": "2019-12-10T15:23:31.468961Z"
    }
   },
   "outputs": [],
   "source": [
    "#preprocess \n",
    "labels_train_encoded, data_train_cleaned = encode_train_labels(data_train, \"subtask_a\")\n",
    "\n",
    "data_train_processed = preproc_tweets(data_train, True) \n",
    "\n",
    "\n",
    "\n",
    "labels_test_encoded = encode_test_labels(labels_test.label)\n",
    "\n",
    "data_test_processed = preproc_tweets(tweets_test.tweet.values, True)\n"
   ]
  }
 ],
 "metadata": {
  "hide_input": false,
  "kernelspec": {
   "display_name": "Python 3",
   "language": "python",
   "name": "python3"
  },
  "language_info": {
   "codemirror_mode": {
    "name": "ipython",
    "version": 3
   },
   "file_extension": ".py",
   "mimetype": "text/x-python",
   "name": "python",
   "nbconvert_exporter": "python",
   "pygments_lexer": "ipython3",
   "version": "3.8.3-final"
  },
  "latex_envs": {
   "LaTeX_envs_menu_present": true,
   "autoclose": false,
   "autocomplete": true,
   "bibliofile": "biblio.bib",
   "cite_by": "apalike",
   "current_citInitial": 1,
   "eqLabelWithNumbers": true,
   "eqNumInitial": 1,
   "hotkeys": {
    "equation": "Ctrl-E",
    "itemize": "Ctrl-I"
   },
   "labels_anchors": false,
   "latex_user_defs": false,
   "report_style_numbering": false,
   "user_envs_cfg": false
  },
  "toc": {
   "base_numbering": 1,
   "nav_menu": {},
   "number_sections": true,
   "sideBar": true,
   "skip_h1_title": false,
   "title_cell": "Table of Contents",
   "title_sidebar": "Contents",
   "toc_cell": false,
   "toc_position": {},
   "toc_section_display": true,
   "toc_window_display": false
  },
  "varInspector": {
   "cols": {
    "lenName": 16,
    "lenType": 16,
    "lenVar": 40
   },
   "kernels_config": {
    "python": {
     "delete_cmd_postfix": "",
     "delete_cmd_prefix": "del ",
     "library": "var_list.py",
     "varRefreshCmd": "print(var_dic_list())"
    },
    "r": {
     "delete_cmd_postfix": ") ",
     "delete_cmd_prefix": "rm(",
     "library": "var_list.r",
     "varRefreshCmd": "cat(var_dic_list()) "
    }
   },
   "types_to_exclude": [
    "module",
    "function",
    "builtin_function_or_method",
    "instance",
    "_Feature"
   ],
   "window_display": false
  }
 },
 "nbformat": 4,
 "nbformat_minor": 2
}